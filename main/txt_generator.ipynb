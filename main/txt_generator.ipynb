{
 "cells": [
  {
   "cell_type": "code",
   "execution_count": 4,
   "metadata": {},
   "outputs": [],
   "source": [
    "import re\n",
    "import requests\n",
    "import time\n",
    "import random\n",
    "from bs4 import BeautifulSoup\n",
    "from tqdm import tqdm"
   ]
  },
  {
   "cell_type": "markdown",
   "metadata": {},
   "source": [
    "### Skins Scrapping\n"
   ]
  },
  {
   "cell_type": "code",
   "execution_count": 5,
   "metadata": {},
   "outputs": [
    {
     "name": "stderr",
     "output_type": "stream",
     "text": [
      "Scraping Weapons: 100%|██████████| 62/62 [04:25<00:00,  4.29s/weapon]"
     ]
    },
    {
     "name": "stdout",
     "output_type": "stream",
     "text": [
      "Extracted 1665 skins. Saved to 'skins.txt'.\n"
     ]
    },
    {
     "name": "stderr",
     "output_type": "stream",
     "text": [
      "\n"
     ]
    }
   ],
   "source": [
    "headers = {\n",
    "    \"User-Agent\": \"Mozilla/5.0 (Windows NT 10.0; Win64; x64) AppleWebKit/537.36 (KHTML, like Gecko) Chrome/120.0.0.0 Safari/537.36\",\n",
    "    \"Accept-Language\": \"en-US,en;q=0.9\",\n",
    "    \"Referer\": \"https://www.google.com/\",\n",
    "    \"DNT\": \"1\",\n",
    "    \"Connection\": \"keep-alive\"\n",
    "}\n",
    "\n",
    "weapon_mapping = {\n",
    "    \"cz75-auto\": \"CZ75-Auto\", \"desert-eagle\": \"Desert Eagle\", \"dual-berettas\": \"Dual Berettas\",\n",
    "    \"five-seven\": \"Five-SeveN\", \"glock-18\": \"Glock-18\", \"p2000\": \"P2000\", \"p250\": \"P250\",\n",
    "    \"r8-revolver\": \"R8 Revolver\", \"tec-9\": \"Tec-9\", \"usp-s\": \"USP-S\", \"zeus-x27\": \"Zeus x27\",\n",
    "    \"mag-7\": \"MAG-7\", \"nova\": \"Nova\", \"sawed-off\": \"Sawed-Off\", \"xm1014\": \"XM1014\",\n",
    "    \"mac-10\": \"MAC-10\", \"mp9\": \"MP9\", \"mp5-sd\": \"MP5-SD\", \"pp-bizon\": \"PP-Bizon\", \"p90\": \"P90\", \"ump-45\": \"UMP-45\",\n",
    "    \"ak-47\": \"AK-47\", \"aug\": \"AUG\", \"famas\": \"FAMAS\", \"galil-ar\": \"Galil AR\", \"m4a1-s\": \"M4A1-S\",\n",
    "    \"m4a4\": \"M4A4\", \"sg-553\": \"SG 553\", \"awp\": \"AWP\", \"g3sg1\": \"G3SG1\", \"scar-20\": \"SCAR-20\",\n",
    "    \"ssg-08\": \"SSG 08\", \"m249\": \"M249\", \"negev\": \"Negev\", \"bayonet\": \"★ Bayonet\",\n",
    "    \"bowie-knife\": \"★ Bowie Knife\", \"butterfly-knife\": \"★ Butterfly Knife\", \"classic-knife\": \"★ Classic Knife\",\n",
    "    \"falchion-knife\": \"★ Falchion Knife\", \"flip-knife\": \"★ Flip Knife\", \"gut-knife\": \"★ Gut Knife\",\n",
    "    \"huntsman-knife\": \"Huntsman Knife\", \"karambit\": \"Karambit\", \"kukri-knife\": \"Kukri Knife\",\n",
    "    \"m9-bayonet\": \"★ M9 Bayonet\", \"navaja-knife\": \"★ Navaja Knife\", \"nomad-knife\": \"★ Nomad Knife\",\n",
    "    \"paracord-knife\": \"★ Paracord Knife\", \"shadow-daggers\": \"★ Shadow Daggers\", \"skeleton-knife\": \"★ Skeleton Knife\",\n",
    "    \"stiletto-knife\": \"★ Stiletto Knife\", \"survival-knife\": \"★ Survival Knife\", \"talon-knife\": \"★ Talon Knife\",\n",
    "    \"ursus-knife\": \"★ Ursus Knife\", \"bloodhound-gloves\": \"★ Bloodhound Gloves\",\n",
    "    \"broken-fang-gloves\": \"★ Broken Fang Gloves\", \"driver-gloves\": \"★ Driver Gloves\", \"hand-wraps\": \"★ Hand Wraps\",\n",
    "    \"hydra-gloves\": \"★ Hydra Gloves\", \"moto-gloves\": \"★ Moto Gloves\", \"specialist-gloves\": \"★ Specialist Gloves\",\n",
    "    \"sport-gloves\": \"★ Sport Gloves\"\n",
    "}\n",
    "\n",
    "base_weapon_url = \"https://csgoskins.gg/weapons/\"\n",
    "\n",
    "# Use a session to maintain cookies\n",
    "session = requests.Session()\n",
    "session.headers.update(headers)\n",
    "\n",
    "def get_skins_for_weapon(weapon):\n",
    "    url = f\"{base_weapon_url}{weapon}\"\n",
    "    skin_data = []\n",
    "    max_retries = 5\n",
    "    delay = 5  # Initial delay in seconds\n",
    "\n",
    "    while url:\n",
    "        for attempt in range(max_retries):\n",
    "            response = session.get(url)\n",
    "            \n",
    "            if response.status_code == 200:\n",
    "                break  # Success, continue scraping\n",
    "            elif response.status_code == 429:\n",
    "                wait_time = delay * (2 ** attempt) + random.uniform(0, 2)\n",
    "                print(f\"Rate limited! Retrying in {wait_time:.2f} seconds...\")\n",
    "                time.sleep(wait_time)\n",
    "            else:\n",
    "                print(f\"Failed to retrieve {url}. Status Code: {response.status_code}\")\n",
    "                return skin_data\n",
    "        \n",
    "        soup = BeautifulSoup(response.text, \"html.parser\")\n",
    "        skin_cards = soup.find_all(\"div\", class_=\"bg-gray-800 rounded-sm shadow-md relative flex flex-wrap h-[545px]\")\n",
    "\n",
    "        for card in skin_cards:\n",
    "            name_tag = card.find(\"h2\")\n",
    "            skin_name = name_tag.text.strip() if name_tag else \"Unknown\"\n",
    "            has_stattrak = card.find(\"div\", class_=\"bg-stattrak\") is not None\n",
    "            has_souvenir = card.find(\"div\", class_=\"bg-souvenir\") is not None\n",
    "\n",
    "            formatted_skin_name = format_skin_name(weapon, skin_name)\n",
    "            skin_data.append((formatted_skin_name, has_stattrak, has_souvenir))\n",
    "\n",
    "        # Find next page link\n",
    "        next_page = soup.find('a', rel=\"next\")\n",
    "        url = next_page['href'] if next_page else None\n",
    "        time.sleep(random.uniform(2, 5))  # Random delay between requests\n",
    "    \n",
    "    return skin_data\n",
    "\n",
    "def format_skin_name(weapon, skin_name):\n",
    "    formatted_weapon = weapon_mapping.get(weapon, weapon)\n",
    "    return f\"{formatted_weapon} | {skin_name}\" if skin_name != \"Vanilla\" else formatted_weapon\n",
    "\n",
    "# Scraping all skins\n",
    "all_skins = []\n",
    "with tqdm(total=len(weapon_mapping), desc=\"Scraping Weapons\", unit=\"weapon\") as pbar:\n",
    "    for weapon in weapon_mapping.keys():\n",
    "        skins = get_skins_for_weapon(weapon)\n",
    "        all_skins.extend(skins)\n",
    "        pbar.update(1)\n",
    "\n",
    "# Save structured skins to a file\n",
    "with open(\"skins.txt\", \"w\", encoding=\"utf-8\") as file:\n",
    "    for skin in all_skins:\n",
    "        file.write(f\"{repr(skin)}\\n\")\n",
    "\n",
    "print(f\"Extracted {len(all_skins)} skins. Saved to 'skins.txt'.\")"
   ]
  },
  {
   "cell_type": "code",
   "execution_count": 6,
   "metadata": {},
   "outputs": [
    {
     "name": "stdout",
     "output_type": "stream",
     "text": [
      "[('AK-47 | Inheritance', True, False), ('AK-47 | Slate', True, False), ('AK-47 | Ice Coaled', True, False), ('AK-47 | Nightwish', True, False), ('AK-47 | Legion of Anubis', True, False), ('AK-47 | The Outsiders', True, False), ('AK-47 | Asiimov', True, False), ('AK-47 | Head Shot', True, False), ('AK-47 | Elite Build', True, False), ('AK-47 | The Empress', True, False), ('AK-47 | Phantom Disruptor', True, False), ('AK-47 | Redline', True, False), ('AK-47 | Frontside Misty', True, False), ('AK-47 | Neon Revolution', True, False), ('AK-47 | Bloodsport', True, False), ('AK-47 | Aquamarine Revenge', True, False), ('AK-47 | Crossfade', False, False), ('AK-47 | Neon Rider', True, False), ('AK-47 | Point Disarray', True, False), ('AK-47 | Uncharted', True, False), ('AK-47 | Emerald Pinstripe', False, False), ('AK-47 | Cartel', True, False), ('AK-47 | Orbit Mk01', True, False), ('AK-47 | Vulcan', True, False), ('AK-47 | Safety Net', False, True), ('AK-47 | B the Monster', False, False), ('AK-47 | Rat Rod', True, False), ('AK-47 | Steel Delta', False, True), ('AK-47 | Fuel Injector', True, False), ('AK-47 | Blue Laminate', True, False), ('AK-47 | Leet Museo', True, False), ('AK-47 | Olive Polycam', False, False), ('AK-47 | Case Hardened', True, False), ('AK-47 | Wasteland Rebel', True, False), ('AK-47 | Jaguar', True, False), ('AK-47 | Green Laminate', False, True), ('AK-47 | Red Laminate', True, False), ('AK-47 | Safari Mesh', False, True), ('AK-47 | Baroque Purple', False, False), ('AK-47 | First Class', False, False), ('AK-47 | Black Laminate', False, True), ('AK-47 | Panthera onca', False, True), ('AK-47 | Predator', False, False), ('AK-47 | Jungle Spray', False, False), ('AK-47 | Gold Arabesque', False, True), ('AK-47 | X-Ray', False, False), ('AK-47 | Jet Set', False, False), ('AK-47 | Fire Serpent', True, False), ('AK-47 | Wild Lotus', False, False), ('AK-47 | Hydroponic', False, False)]\n"
     ]
    }
   ],
   "source": [
    "skin = get_skins_for_weapon(\"ak-47\")\n",
    "print(skin)"
   ]
  },
  {
   "cell_type": "code",
   "execution_count": 7,
   "metadata": {},
   "outputs": [
    {
     "name": "stdout",
     "output_type": "stream",
     "text": [
      "1665\n"
     ]
    }
   ],
   "source": [
    "print(len(all_skins))"
   ]
  },
  {
   "cell_type": "markdown",
   "metadata": {},
   "source": [
    "### Scrapping Case Skin"
   ]
  },
  {
   "cell_type": "code",
   "execution_count": 8,
   "metadata": {},
   "outputs": [
    {
     "name": "stderr",
     "output_type": "stream",
     "text": [
      "Scraping Cases: 100%|██████████| 41/41 [00:00<?, ?case/s]"
     ]
    },
    {
     "name": "stdout",
     "output_type": "stream",
     "text": [
      "✅ Extracted 41 case URLs. Saved to 'csgoskins_case_urls.txt'.\n"
     ]
    },
    {
     "name": "stderr",
     "output_type": "stream",
     "text": [
      "\n"
     ]
    }
   ],
   "source": [
    "headers = {\n",
    "    \"User-Agent\": \"Mozilla/5.0 (Windows NT 10.0; Win64; x64) AppleWebKit/537.36 (KHTML, like Gecko) Chrome/114.0.0.0 Safari/537.36\"\n",
    "}\n",
    "\n",
    "cases = [\n",
    "    \"Gallery Case\", \"Kilowatt Case\", \"Revolution Case\", \"Recoil Case\", \"Dreams & Nightmares-Case\",\n",
    "    \"Chroma 2 Case\", \"Chroma 3 Case\", \"Chroma Case\", \"Clutch Case\", \"CS20 Case\", \"CS:GO Weapon Case\", \n",
    "    \"CS:GO Weapon Case 2\", \"CS:GO Weapon Case 3\", \"Danger Zone Case\", \"eSports 2013 Case\", \n",
    "    \"eSports 2013 Winter Case\", \"eSports 2014 Summer Case\", \"Falchion Case\", \"Fracture Case\", \"Gamma 2 Case\", \n",
    "    \"Gamma Case\", \"Glove Case\", \"Horizon Case\", \"Huntsman Case\", \"Operation Bravo Case\", \"Operation Breakout Weapon Case\",\n",
    "    \"Operation Broken Fang Case\", \"Operation Hydra Case\", \"Operation Phoenix Weapon Case\", \"Operation Riptide Case\",\n",
    "    \"Operation Vanguard Weapon Case\", \"Operation Wildfire Case\", \"Prisma 2 Case\", \"Prisma Case\", \"Revolver Case\",\n",
    "    \"Shadow Case\", \"Shattered Web Case\", \"Snakebite Case\", \"Spectrum 2 Case\", \"Spectrum Case\", \"Winter Offensive Weapon Case\"\n",
    "]\n",
    "\n",
    "base_item_url = \"https://csgoskins.gg/items/\"\n",
    "\n",
    "case_urls = []\n",
    "\n",
    "with tqdm(total=len(cases), desc=\"Scraping Cases\", unit=\"case\") as pbar:\n",
    "    for case in cases:\n",
    "        formatted_case_url = f\"{case}\"\n",
    "        case_urls.append(formatted_case_url)\n",
    "        pbar.update(1)  \n",
    "\n",
    "with open(\"case.txt\", \"w\", encoding=\"utf-8\") as file:\n",
    "    for url in case_urls:\n",
    "        file.write(url + \"\\n\")\n",
    "\n",
    "print(f\"✅ Extracted {len(case_urls)} case URLs. Saved to 'csgoskins_case_urls.txt'.\")"
   ]
  },
  {
   "cell_type": "code",
   "execution_count": null,
   "metadata": {},
   "outputs": [],
   "source": []
  }
 ],
 "metadata": {
  "kernelspec": {
   "display_name": "Python 3",
   "language": "python",
   "name": "python3"
  },
  "language_info": {
   "codemirror_mode": {
    "name": "ipython",
    "version": 3
   },
   "file_extension": ".py",
   "mimetype": "text/x-python",
   "name": "python",
   "nbconvert_exporter": "python",
   "pygments_lexer": "ipython3",
   "version": "3.11.9"
  }
 },
 "nbformat": 4,
 "nbformat_minor": 2
}
